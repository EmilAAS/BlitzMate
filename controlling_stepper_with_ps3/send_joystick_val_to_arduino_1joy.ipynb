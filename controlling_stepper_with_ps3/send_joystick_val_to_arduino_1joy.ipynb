{
 "cells": [
  {
   "cell_type": "code",
   "execution_count": null,
   "id": "da4a1e99-a034-4adb-8844-a37e8a367e78",
   "metadata": {},
   "outputs": [
    {
     "name": "stdout",
     "output_type": "stream",
     "text": [
      "pygame 2.6.1 (SDL 2.28.4, Python 3.12.5)\n",
      "Hello from the pygame community. https://www.pygame.org/contribute.html\n",
      "Connected to: Xbox 360 Controller\n"
     ]
    }
   ],
   "source": [
    "# Python Code\n",
    "import pygame\n",
    "import serial\n",
    "import time\n",
    "\n",
    "# Initialize Serial Connection with Arduino\n",
    "arduino_port = \"COM4\"  # Change based on your system\n",
    "baud_rate = 115200\n",
    "ser = serial.Serial(arduino_port, baud_rate, timeout=1)\n",
    "time.sleep(2)  # Give Arduino time to reset\n",
    "\n",
    "# Initialize pygame for PS3 Controller\n",
    "pygame.init()\n",
    "joystick = pygame.joystick.Joystick(0)\n",
    "joystick.init()\n",
    "print(f\"Connected to: {joystick.get_name()}\")\n",
    "\n",
    "try:\n",
    "    while True:\n",
    "        pygame.event.pump()  # Process controller events\n",
    "\n",
    "        axis_x = joystick.get_axis(1)  # Left Stick Horizontal Axis\n",
    "        axis_y = joystick.get_axis(0)  # Left Stick Vertical Axis\n",
    "        button_x = joystick.get_button(0)  # X Button (now using index 0)\n",
    "\n",
    "        # Convert joystick values to range (-100 to 100)\n",
    "        scaled_x = int(axis_x * 100)\n",
    "        scaled_y = int(axis_y * 100)  # Invert Y for more intuitive control\n",
    "\n",
    "        # Calculate CoreXY motor values\n",
    "        motorA = scaled_x \n",
    "        motorB = scaled_y \n",
    "        # Send motor speeds and X button state to Arduino\n",
    "        command = f\"{motorA},{motorB},{button_x}\\n\"\n",
    "        ser.write(command.encode())\n",
    "        time.sleep(0.01)  # Small delay to prevent overloading CPU\n",
    "\n",
    "except KeyboardInterrupt:\n",
    "    print(\"Stopping...\")\n",
    "    ser.close()\n",
    "    pygame.quit()\n"
   ]
  }
 ],
 "metadata": {
  "kernelspec": {
   "display_name": "Python 3 (ipykernel)",
   "language": "python",
   "name": "python3"
  },
  "language_info": {
   "codemirror_mode": {
    "name": "ipython",
    "version": 3
   },
   "file_extension": ".py",
   "mimetype": "text/x-python",
   "name": "python",
   "nbconvert_exporter": "python",
   "pygments_lexer": "ipython3",
   "version": "3.12.5"
  }
 },
 "nbformat": 4,
 "nbformat_minor": 5
}
